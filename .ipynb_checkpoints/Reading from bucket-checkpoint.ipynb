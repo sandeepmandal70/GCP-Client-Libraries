{
 "cells": [
  {
   "cell_type": "markdown",
   "metadata": {},
   "source": [
    "# This NoteBook will help to read a CSV file from GCP Storage Bucket using Service account details\n",
    "\n",
    "### Pandas is also used\n"
   ]
  },
  {
   "cell_type": "code",
   "execution_count": null,
   "metadata": {},
   "outputs": [],
   "source": [
    "from google.cloud import storage\n",
    "from google.oauth2 import service_account\n",
    "import pandas as pd\n",
    "import io\n",
    "from io import BytesIO"
   ]
  },
  {
   "cell_type": "code",
   "execution_count": null,
   "metadata": {},
   "outputs": [],
   "source": [
    "storage_client = storage.Client.from_service_account_json(\"xxxxxxxxxxxxx\") # Will need a json file genrated from GCP IAM containing Keys (Pass path of json Key)\n",
    "bucket_to_read = 'xxxxxxxxxxxxx' #pass name of bucket\n",
    "bucket = storage_client.get_bucket(bucket_to_read)\n",
    "filename = list(bucket.list_blobs(prefix=''))\n",
    "                \n",
    "csv_in_blob = bucket.blob(\"xxxxxxxxxxxxxx\") #pass name of file which you want to read from bucket\n",
    "data = csv_in_blob.download_as_string()\n",
    "                \n",
    "df = pd.read_csv(io.BytesIO(data),encoding='UTF-8',sep=\",\")\n",
    "print(df.head())"
   ]
  },
  {
   "cell_type": "code",
   "execution_count": null,
   "metadata": {},
   "outputs": [],
   "source": []
  }
 ],
 "metadata": {
  "kernelspec": {
   "display_name": "Python 3",
   "language": "python",
   "name": "python3"
  },
  "language_info": {
   "codemirror_mode": {
    "name": "ipython",
    "version": 3
   },
   "file_extension": ".py",
   "mimetype": "text/x-python",
   "name": "python",
   "nbconvert_exporter": "python",
   "pygments_lexer": "ipython3",
   "version": "3.8.0"
  }
 },
 "nbformat": 4,
 "nbformat_minor": 4
}
