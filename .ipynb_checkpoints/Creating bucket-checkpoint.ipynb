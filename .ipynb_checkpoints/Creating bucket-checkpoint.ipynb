{
 "cells": [
  {
   "cell_type": "markdown",
   "metadata": {},
   "source": [
    "<h2><p style=\"Color:green\">This NoteBook creates a bucket at GCP Storage</p></h2>"
   ]
  },
  {
   "cell_type": "code",
   "execution_count": 1,
   "metadata": {},
   "outputs": [],
   "source": [
    "from google.cloud import storage\n",
    "from google.oauth2 import service_account"
   ]
  },
  {
   "cell_type": "code",
   "execution_count": 2,
   "metadata": {},
   "outputs": [],
   "source": [
    "def create_new_bucket(location,bucket_name,client): #To Create new bucket\n",
    "    bucket = client.create_bucket(location=location,bucket_or_name=bucket_name)\n",
    "\n",
    "def check_existing_buckets(bucket_name): #To check if any bucket already exist\n",
    "    all_buckets = list()\n",
    "    client = for_auth()\n",
    "    buckets = client.list_buckets()\n",
    "    all_bucket_list = list(map(str,buckets))\n",
    "    for i in all_bucket_list:\n",
    "        all_buckets.append(i[9:-1])\n",
    "    \n",
    "    if all_buckets.count(bucket_name) > 0:\n",
    "        return \"Exist\"\n",
    "    else:return \"Proceed\"\n",
    "        \n",
    "    \n",
    "def for_auth(): #for authorization\n",
    "    client = storage.Client.from_service_account_json(\"xxxxxxxxxxxxxx\") #for authentication (Pass path of json Key) \n",
    "    return client\n",
    "    \n",
    "    "
   ]
  },
  {
   "cell_type": "code",
   "execution_count": 9,
   "metadata": {},
   "outputs": [
    {
     "name": "stdout",
     "output_type": "stream",
     "text": [
      "Please enter bucket Name: dras-trial-2\n",
      "['<Bucket: bucket-dras-trial>', '<Bucket: dras-bucket-2>', '<Bucket: dras-trial-2>']\n"
     ]
    }
   ],
   "source": [
    "if __name__ == \"__main__\":\n",
    "    bucket_name_from_user = input(\"Please enter bucket Name: \").lower()\n",
    "\n",
    "    client = for_auth()\n",
    "    bucket_name_validation = check_existing_buckets(bucket_name_from_user)\n",
    "    if bucket_name_validation == \"Proceed\":\n",
    "        a = create_new_bucket('us-east1',bucket_name_from_user,client)\n",
    "        print(list(map(str,client.list_buckets())))\n",
    "    else:print('Bucket already exist, Please enter any other name.')"
   ]
  },
  {
   "cell_type": "code",
   "execution_count": null,
   "metadata": {},
   "outputs": [],
   "source": []
  }
 ],
 "metadata": {
  "kernelspec": {
   "display_name": "Python 3",
   "language": "python",
   "name": "python3"
  },
  "language_info": {
   "codemirror_mode": {
    "name": "ipython",
    "version": 3
   },
   "file_extension": ".py",
   "mimetype": "text/x-python",
   "name": "python",
   "nbconvert_exporter": "python",
   "pygments_lexer": "ipython3",
   "version": "3.8.0"
  }
 },
 "nbformat": 4,
 "nbformat_minor": 4
}
