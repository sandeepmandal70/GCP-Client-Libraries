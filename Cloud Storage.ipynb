{
 "cells": [
  {
   "cell_type": "code",
   "execution_count": 1,
   "metadata": {},
   "outputs": [],
   "source": [
    "from google.cloud import storage\n",
    "from google.oauth2 import service_account\n",
    "import pandas as pd\n",
    "import io\n",
    "from io import BytesIO"
   ]
  },
  {
   "cell_type": "code",
   "execution_count": 6,
   "metadata": {},
   "outputs": [
    {
     "name": "stdout",
     "output_type": "stream",
     "text": [
      "      Name                   City      zip         Contact\n",
      "0   Tashya            Ripacandida    04137  09 47 27 08 16\n",
      "1    Keely  Monteleone di Spoleto  9510 KM  05 19 74 77 99\n",
      "2   Camden              Quilicura    03970  02 12 25 70 33\n",
      "3    Riley    Alphen aan den Rijn   399123  03 16 81 45 07\n",
      "4  Graiden         Piancastagnaio     2761  05 15 83 37 33\n"
     ]
    }
   ],
   "source": [
    "storage_client = storage.Client.from_service_account_json(\"../Keys/secret_to_bucket.json\") # Will need a json file genrated from GCP IAM containing Keys\n",
    "bucket_to_read = 'bucket-dras-trial'\n",
    "bucket = storage_client.get_bucket(bucket_to_read)\n",
    "filename = list(bucket.list_blobs(prefix=''))\n",
    "\n",
    "csv_in_blob = bucket.blob(\"dataJul-25-2020.csv\")\n",
    "data = csv_in_blob.download_as_string()\n",
    "\n",
    "df = pd.read_csv(io.BytesIO(data),encoding='UTF-8',sep=\",\")\n",
    "print(df.head())"
   ]
  },
  {
   "cell_type": "code",
   "execution_count": null,
   "metadata": {},
   "outputs": [],
   "source": []
  }
 ],
 "metadata": {
  "kernelspec": {
   "display_name": "Python 3",
   "language": "python",
   "name": "python3"
  },
  "language_info": {
   "codemirror_mode": {
    "name": "ipython",
    "version": 3
   },
   "file_extension": ".py",
   "mimetype": "text/x-python",
   "name": "python",
   "nbconvert_exporter": "python",
   "pygments_lexer": "ipython3",
   "version": "3.8.0"
  }
 },
 "nbformat": 4,
 "nbformat_minor": 4
}
